{
 "cells": [
  {
   "cell_type": "code",
   "execution_count": 1,
   "metadata": {},
   "outputs": [
    {
     "name": "stdout",
     "output_type": "stream",
     "text": [
      "Import functions\n"
     ]
    }
   ],
   "source": [
    "from time import time\n",
    "import warnings\n",
    "import numpy as np\n",
    "import pandas as pd\n",
    "from sklearn.model_selection import train_test_split\n",
    "from sklearn.preprocessing import MinMaxScaler\n",
    "from sklearn.feature_selection import RFE, RFECV\n",
    "from sklearn.neighbors import KNeighborsClassifier, KNeighborsRegressor\n",
    "from sklearn.svm import SVC, SVR\n",
    "from sklearn.ensemble import RandomForestClassifier, RandomForestRegressor\n",
    "from sklearn.neural_network import MLPClassifier, MLPRegressor\n",
    "from sklearn.linear_model import SGDClassifier, SGDRegressor\n",
    "from sklearn.metrics import f1_score, r2_score, accuracy_score\n",
    "print('Import functions')"
   ]
  },
  {
   "cell_type": "code",
   "execution_count": 2,
   "metadata": {},
   "outputs": [
    {
     "name": "stdout",
     "output_type": "stream",
     "text": [
      "Load Data\n"
     ]
    }
   ],
   "source": [
    "t0 = time()\n",
    "warnings.filterwarnings('ignore')\n",
    "\n",
    "print('Load Data')\n",
    "data = pd.read_csv('creditcard.csv', sep=',', header=0)\n",
    "colofans = ['Amount', 'Class']\n",
    "labels = data[colofans]\n",
    "data = data.drop(colofans, axis=1)"
   ]
  },
  {
   "cell_type": "code",
   "execution_count": 3,
   "metadata": {},
   "outputs": [
    {
     "name": "stdout",
     "output_type": "stream",
     "text": [
      "Split Data\n",
      "Process data for Regressor\n",
      "Xtrain_shape: (213605, 29)\n"
     ]
    }
   ],
   "source": [
    "print('Split Data')\n",
    "Xtrain, Xtest, ytrain, ytest = train_test_split(data, labels, test_size=0.25)\n",
    "train_class = ytrain['Class']\n",
    "test_class = ytest['Class']\n",
    "train_reg = ytrain['Amount']\n",
    "test_reg = ytest['Amount']\n",
    "\n",
    "print('Process data for Regressor')\n",
    "scale = MinMaxScaler()\n",
    "Xtrain = scale.fit_transform(Xtrain)\n",
    "Xtest = scale.transform(Xtest)\n",
    "\n",
    "train_reg = scale.fit_transform(np.reshape(train_reg, (-1, 1)))\n",
    "test_reg = scale.transform(np.reshape(test_reg, (-1, 1)))\n",
    "print('Xtrain_shape: {}'.format(Xtrain.shape))"
   ]
  },
  {
   "cell_type": "code",
   "execution_count": 4,
   "metadata": {},
   "outputs": [],
   "source": [
    "knr = KNeighborsRegressor()\n",
    "knc = KNeighborsClassifier()\n",
    "svr = SVR()\n",
    "svm = SVC()\n",
    "mlr = MLPRegressor(hidden_layer_sizes=(32, 8, ))\n",
    "mlc = MLPClassifier(hidden_layer_sizes=(32, 8, ))\n",
    "rtc = RandomForestClassifier()\n",
    "rtr = RandomForestRegressor()\n",
    "\n",
    "regressors = {'Kneighbor_regressor': knr, 'SGD_regressor': svr, \n",
    "              'MLP_regressor': mlr, 'RTree_regressor': rtr}\n",
    "classifiers = {'Kneighbor_classifier': knc, 'SV_classifier': svm, \n",
    "               'MLP_classifier': mlc, 'RTree_classifier': rtc}\n",
    "\n",
    "estimator_class = SGDClassifier()\n",
    "estimator_reg = SGDRegressor()\n"
   ]
  },
  {
   "cell_type": "code",
   "execution_count": 5,
   "metadata": {},
   "outputs": [
    {
     "name": "stdout",
     "output_type": "stream",
     "text": [
      "RFE score =  0.142300381222\n",
      "No. of features =  26\n",
      "\t Kneighbor_regressor \tR2_score =  0.690273741414\n",
      "\t SGD_regressor \tR2_score =  -50.8950559499\n",
      "\t MLP_regressor \tR2_score =  0.634448817622\n",
      "\t RTree_regressor \tR2_score =  0.969184583031\n"
     ]
    }
   ],
   "source": [
    "refer = RFECV(estimator_reg, cv=5)\n",
    "refer.fit(Xtrain, train_reg)\n",
    "print('RFE score = ', refer.score(Xtrain, train_reg))\n",
    "X_train = refer.transform(Xtrain)\n",
    "X_test = refer.transform(Xtest)\n",
    "print('No. of features = ', refer.n_features_)\n",
    "\n",
    "for name in regressors:\n",
    "    reg = regressors[name]\n",
    "    reg.fit(X_train, train_reg)\n",
    "    y = reg.predict(X_test)\n",
    "    print('\\t', name, '\\tR2_score = ', r2_score(test_reg, y))\n",
    "    "
   ]
  },
  {
   "cell_type": "code",
   "execution_count": 6,
   "metadata": {},
   "outputs": [
    {
     "name": "stdout",
     "output_type": "stream",
     "text": [
      "RFE score =  0.998895156949\n",
      "No. of features =  29\n",
      "\tKneighbor_classifier\tF_score = 0.8436018957345971\tAccuracy = 0.9995365298727564\n",
      "\tSV_classifier\tF_score = 0.6934673366834171\tAccuracy = 0.9991432824920649\n",
      "\tMLP_classifier\tF_score = 0.8\tAccuracy = 0.9993679952810315\n",
      "\tRTree_classifier\tF_score = 0.8229665071770336\tAccuracy = 0.9994803516755147\n",
      "\n",
      " Time take for the code to run ==> 628.35 sec\n"
     ]
    }
   ],
   "source": [
    "refec = RFECV(estimator_class, cv=5)\n",
    "refec.fit(Xtrain, train_class)\n",
    "print('RFE score = ', refec.score(Xtrain, train_class))\n",
    "X_train = refec.transform(Xtrain)\n",
    "X_test = refec.transform(Xtest)\n",
    "print('No. of features = ', refec.n_features_)\n",
    "\n",
    "\n",
    "for clame in classifiers:\n",
    "    clf = classifiers[clame]\n",
    "    clf.fit(X_train, train_class)\n",
    "    y_ = clf.predict(X_test)\n",
    "    print('\\t{0}\\tF_score = {1}\\tAccuracy = {2}'.format(clame, f1_score(test_class, y_), \n",
    "                                                        accuracy_score(test_class, y_)))\n",
    "\n",
    "\n",
    "\n",
    "print('\\n Time take for the code to run ==> %.2f sec' % (time()-t0))"
   ]
  },
  {
   "cell_type": "code",
   "execution_count": null,
   "metadata": {},
   "outputs": [],
   "source": []
  }
 ],
 "metadata": {
  "kernelspec": {
   "display_name": "Python 3",
   "language": "python",
   "name": "python3"
  },
  "language_info": {
   "codemirror_mode": {
    "name": "ipython",
    "version": 3
   },
   "file_extension": ".py",
   "mimetype": "text/x-python",
   "name": "python",
   "nbconvert_exporter": "python",
   "pygments_lexer": "ipython3",
   "version": "3.6.2"
  }
 },
 "nbformat": 4,
 "nbformat_minor": 2
}
